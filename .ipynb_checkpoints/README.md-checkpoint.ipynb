{
 "cells": [
  {
   "cell_type": "markdown",
   "metadata": {},
   "source": [
    "# Yahoo Scraper in Python\n",
    "\n",
    "This web scraper project is written in Python.  \n",
    "\n",
    "I started it a few weeks ago, and recently returned to coding it after a brief side journey through Java and Spring Boot.\n",
    "\n",
    "Having several different projects going on at various stages of development, I realized I needed a good way to track what I was doing, where and when.\n",
    "\n",
    "I decided to use [Trello](https://trello.com) for project management.\n",
    "\n",
    "A few notes about switching from Python to Java to React and back to Python...\n",
    "To run this project:\n",
    "start virtual env and activate\n",
    "\n",
    "$ python run.py\n"
   ]
  }
 ],
 "metadata": {
  "kernelspec": {
   "display_name": "Python 3",
   "language": "python",
   "name": "python3"
  },
  "language_info": {
   "codemirror_mode": {
    "name": "ipython",
    "version": 3
   },
   "file_extension": ".py",
   "mimetype": "text/x-python",
   "name": "python",
   "nbconvert_exporter": "python",
   "pygments_lexer": "ipython3",
   "version": "3.7.1"
  }
 },
 "nbformat": 4,
 "nbformat_minor": 2
}
